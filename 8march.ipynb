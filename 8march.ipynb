{
 "cells": [
  {
   "cell_type": "markdown",
   "id": "55d71080-27f8-478a-bab7-89bcfe2a0fcd",
   "metadata": {},
   "source": [
    "Q1. What is the Probability density function?\n",
    "\n",
    "The probability density function (PDF) is a function that describes the likelihood of a continuous random variable taking on a particular value. It is used to characterize the probability distribution of a continuous random variable. The area under the probability density function curve within a given interval represents the probability of the random variable falling within that interval.\n",
    "\n"
   ]
  },
  {
   "cell_type": "markdown",
   "id": "933c2fea-fb90-4dba-9a95-245d4e1b00c7",
   "metadata": {},
   "source": [
    "Q2. What are the types of Probability distribution?\n",
    "\n",
    "There are several types of probability distributions, including:\n",
    "\n",
    "Normal Distribution\n",
    "Binomial Distribution\n",
    "Poisson Distribution\n",
    "Exponential Distribution\n",
    "Uniform Distribution\n",
    "Bernoulli Distribution\n",
    "Geometric Distribution\n",
    "Hypergeometric Distribution"
   ]
  },
  {
   "cell_type": "markdown",
   "id": "ca729125-266d-4b43-8f65-6c303931425e",
   "metadata": {},
   "source": [
    "Q3. Write a Python function to calculate the probability density function of a normal distribution with given mean and standard deviation at a given point."
   ]
  },
  {
   "cell_type": "code",
   "execution_count": 2,
   "id": "b396db18-3665-46b7-8149-3c6039313247",
   "metadata": {},
   "outputs": [
    {
     "name": "stdout",
     "output_type": "stream",
     "text": [
      "PDF at x = 1 : 0.24197072451914337\n"
     ]
    }
   ],
   "source": [
    "import numpy as np\n",
    "import scipy.stats\n",
    "\n",
    "def normal_pdf(x, mean, std_dev):\n",
    "    \"\"\"\n",
    "    Calculate the probability density function (PDF) of a normal distribution at a given point.\n",
    "    \n",
    "    Parameters:\n",
    "    x (float): The point at which to evaluate the PDF.\n",
    "    mean (float): Mean of the normal distribution.\n",
    "    std_dev (float): Standard deviation of the normal distribution.\n",
    "    \n",
    "    Returns:\n",
    "    float: Probability density function (PDF) value at the given point.\n",
    "    \"\"\"\n",
    "    pdf_value = scipy.stats.norm.pdf(x, mean, std_dev)\n",
    "    return pdf_value\n",
    "\n",
    "# Example usage:\n",
    "mean = 0\n",
    "std_dev = 1\n",
    "x = 1\n",
    "pdf_value = normal_pdf(x, mean, std_dev)\n",
    "print(\"PDF at x =\", x, \":\", pdf_value)"
   ]
  },
  {
   "cell_type": "markdown",
   "id": "a19c960f-893b-42b0-ba2f-5f49f83808ad",
   "metadata": {},
   "source": [
    "Q4. What are the properties of Binomial distribution? Give two examples of events where binomial distribution can be applied.\n",
    "\n",
    "Properties of the binomial distribution:\n",
    "\n",
    "The random variable follows a binomial distribution if there are only two possible outcomes (success or failure) for each trial.\n",
    "Each trial is independent of the others.\n",
    "The probability of success (p) and failure (q = 1 - p) remains constant across all trials.\n",
    "Examples of events where binomial distribution can be applied:\n",
    "\n",
    "Flipping a coin: The outcome of each flip can be either heads (success) or tails (failure).\n",
    "Testing whether a product is defective: Each item tested can be classified as either defective (success) or non-defective (failure)."
   ]
  },
  {
   "cell_type": "markdown",
   "id": "400ec74c-4c18-4a73-b9fc-6e6e5f9f89af",
   "metadata": {},
   "source": [
    "Q5. Generate a random sample of size 1000 from a binomial distribution with probability of success 0.4 and plot a histogram of the results using matplotlib."
   ]
  },
  {
   "cell_type": "code",
   "execution_count": 3,
   "id": "ee806a84-3347-4cc9-addb-c62279e465c9",
   "metadata": {},
   "outputs": [
    {
     "data": {
      "image/png": "[encoded data removed]",
      "text/plain": [
       "<Figure size 640x480 with 1 Axes>"
      ]
     },
     "metadata": {},
     "output_type": "display_data"
    }
   ],
   "source": [
    "import numpy as np\n",
    "import matplotlib.pyplot as plt\n",
    "\n",
    "# Generate random sample from binomial distribution\n",
    "sample = np.random.binomial(n=1, p=0.4, size=1000)\n",
    "\n",
    "# Plot histogram\n",
    "plt.hist(sample, bins=2, edgecolor='black')\n",
    "plt.xlabel('Outcome')\n",
    "plt.ylabel('Frequency')\n",
    "plt.title('Histogram of Binomial Distribution Sample')\n",
    "plt.xticks([0, 1], ['Failure', 'Success'])\n",
    "plt.show()"
   ]
  },
  {
   "cell_type": "markdown",
   "id": "fd9a66f9-89fa-44eb-affb-2983ed6fcde7",
   "metadata": {},
   "source": [
    "Q6. Write a Python function to calculate the cumulative distribution function of a Poisson distribution with given mean at a given point."
   ]
  },
  {
   "cell_type": "code",
   "execution_count": 4,
   "id": "93d0d575-da97-498c-9cf1-343aaf58d899",
   "metadata": {},
   "outputs": [
    {
     "name": "stdout",
     "output_type": "stream",
     "text": [
      "CDF at x = 2 : 0.42319008112684364\n"
     ]
    }
   ],
   "source": [
    "import numpy as np\n",
    "import scipy.stats\n",
    "\n",
    "def poisson_cdf(x, mean):\n",
    "    \"\"\"\n",
    "    Calculate the cumulative distribution function (CDF) of a Poisson distribution at a given point.\n",
    "    \n",
    "    Parameters:\n",
    "    x (int): The point at which to evaluate the CDF.\n",
    "    mean (float): Mean of the Poisson distribution.\n",
    "    \n",
    "    Returns:\n",
    "    float: Cumulative distribution function (CDF) value at the given point.\n",
    "    \"\"\"\n",
    "    cdf_value = scipy.stats.poisson.cdf(x, mean)\n",
    "    return cdf_value\n",
    "\n",
    "# Example usage:\n",
    "mean = 3\n",
    "x = 2\n",
    "cdf_value = poisson_cdf(x, mean)\n",
    "print(\"CDF at x =\", x, \":\", cdf_value)"
   ]
  },
  {
   "cell_type": "code",
   "execution_count": null,
   "id": "27fbe3e2-ddb6-4f02-af9c-127c67df5f06",
   "metadata": {},
   "outputs": [],
   "source": []
  }
 ],
 "metadata": {
  "kernelspec": {
   "display_name": "Python 3 (ipykernel)",
   "language": "python",
   "name": "python3"
  },
  "language_info": {
   "codemirror_mode": {
    "name": "ipython",
    "version": 3
   },
   "file_extension": ".py",
   "mimetype": "text/x-python",
   "name": "python",
   "nbconvert_exporter": "python",
   "pygments_lexer": "ipython3",
   "version": "3.10.8"
  }
 },
 "nbformat": 4,
 "nbformat_minor": 5
}
